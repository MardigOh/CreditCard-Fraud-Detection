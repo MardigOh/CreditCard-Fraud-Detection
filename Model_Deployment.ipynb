{
 "cells": [
  {
   "cell_type": "code",
   "execution_count": 1,
   "id": "57d1ca7c",
   "metadata": {},
   "outputs": [],
   "source": [
    "import pandas as pd\n",
    "import numpy as np\n",
    "from sklearn.model_selection import train_test_split\n",
    "df = pd.read_csv('fraudTrain.csv')"
   ]
  },
  {
   "cell_type": "code",
   "execution_count": 2,
   "id": "4a6f0111",
   "metadata": {},
   "outputs": [
    {
     "name": "stdout",
     "output_type": "stream",
     "text": [
      "[' 00' ' 01' ' 02' ' 03' ' 04' ' 05' ' 06' ' 07' ' 08' ' 09' ' 10' ' 11'\n",
      " ' 12' ' 13' ' 14' ' 15' ' 16' ' 17' ' 18' ' 19' ' 20' ' 21' ' 22' ' 23']\n"
     ]
    }
   ],
   "source": [
    "#Feature Selection/Extraction: \n",
    "\n",
    "df['trans_date_trans_time']= df['trans_date_trans_time'].str[10:13]\n",
    "#taking only the hour time from this format: 'M/D/YYYY  HH:MM:SS AM/PM'\n",
    "\n",
    "df = df.rename(columns={'trans_date_trans_time': 'trans_hour'})\n",
    "\n",
    "print(df['trans_hour'].unique())"
   ]
  },
  {
   "cell_type": "code",
   "execution_count": 3,
   "id": "8aaaddf8",
   "metadata": {},
   "outputs": [],
   "source": [
    "df = df.drop(columns=['cc_num', 'merchant', 'first', 'last', 'street', 'city', 'state', 'zip', 'city_pop','job', 'trans_num', 'unix_time' ])  "
   ]
  },
  {
   "cell_type": "code",
   "execution_count": 4,
   "id": "1f4ab320",
   "metadata": {},
   "outputs": [],
   "source": [
    "df['lat'] = abs(df['lat'] - df['merch_lat'])\n",
    "df['long'] = abs(df['long'] - df['merch_long'])\n",
    "\n",
    "df = df.rename(columns = {'long': 'long_distance', 'lat': 'lat_distance'})\n",
    "\n",
    "df = df.drop(columns=['merch_lat'])\n",
    "df = df.drop(columns=['merch_long'])\n",
    "df = df.drop(columns=['Unnamed: 0'])"
   ]
  },
  {
   "cell_type": "code",
   "execution_count": 5,
   "id": "d905289f",
   "metadata": {},
   "outputs": [],
   "source": [
    "df['dob'] = df['dob'].str[0:4] \n",
    "#taking only the birth year from this format: 'M/D/YYYY' so we can get the age of the card holder\n",
    "\n",
    "df['dob'] = df['dob'].astype(int) \n",
    "#turning the column to integer values so we can get the age(performing a column type transformation)\n",
    "\n",
    "df['dob'] = 2020 - df['dob'] #because the dataset has transacions up until no more than 2020\n",
    "df = df.rename(columns={'dob': 'age'})"
   ]
  },
  {
   "cell_type": "code",
   "execution_count": 6,
   "id": "40df9607",
   "metadata": {},
   "outputs": [
    {
     "name": "stdout",
     "output_type": "stream",
     "text": [
      "number of different hours:  24 ==> [' 00' ' 01' ' 02' ' 03' ' 04' ' 05' ' 06' ' 07' ' 08' ' 09' ' 10' ' 11'\n",
      " ' 12' ' 13' ' 14' ' 15' ' 16' ' 17' ' 18' ' 19' ' 20' ' 21' ' 22' ' 23']\n"
     ]
    }
   ],
   "source": [
    "#Encoding: \n",
    "from sklearn.preprocessing import LabelEncoder\n",
    "print('number of different hours: ', len(df['trans_hour'].unique()), '==>',df['trans_hour'].unique() )\n",
    "#Now we can use label encoding on the trans_hour column\n",
    "\n",
    "le=LabelEncoder()\n",
    "df['trans_hour'] = le.fit_transform(df['trans_hour'])\n",
    "#we then renamed the column to trans_hour"
   ]
  },
  {
   "cell_type": "code",
   "execution_count": 7,
   "id": "b5162f98",
   "metadata": {},
   "outputs": [
    {
     "name": "stdout",
     "output_type": "stream",
     "text": [
      "number of different categories:  14\n"
     ]
    }
   ],
   "source": [
    "import category_encoders as ce\n",
    "print('number of different categories: ', len(df['category'].unique()))\n",
    "#Performing binary encoding on the 'category' column\n",
    "encoder = ce.BinaryEncoder(cols=['category'])\n",
    "\n",
    "df_binary=encoder.fit_transform(df['category'])\n",
    "\n",
    "df = pd.concat([df, df_binary], axis=1) #this line is to add the new encoded columns inside the dataframe\n",
    "\n",
    "df = df.drop(columns=['category'])#dropping the main category column after adding the new encoded columns inside df"
   ]
  },
  {
   "cell_type": "code",
   "execution_count": 8,
   "id": "419bc765",
   "metadata": {},
   "outputs": [
    {
     "name": "stdout",
     "output_type": "stream",
     "text": [
      "number of different genders:  2 ==> ['F' 'M']\n"
     ]
    }
   ],
   "source": [
    "import pandas as pd\n",
    "print('number of different genders: ', len(df['gender'].unique()), '==>', df['gender'].unique() )\n",
    "#Now we can use one hot encoding on the gender column \n",
    "\n",
    "df = pd.get_dummies(df, columns=['gender'], prefix = 'gender')"
   ]
  },
  {
   "cell_type": "code",
   "execution_count": 9,
   "id": "3d9fac81",
   "metadata": {},
   "outputs": [
    {
     "data": {
      "text/html": [
       "<div>\n",
       "<style scoped>\n",
       "    .dataframe tbody tr th:only-of-type {\n",
       "        vertical-align: middle;\n",
       "    }\n",
       "\n",
       "    .dataframe tbody tr th {\n",
       "        vertical-align: top;\n",
       "    }\n",
       "\n",
       "    .dataframe thead th {\n",
       "        text-align: right;\n",
       "    }\n",
       "</style>\n",
       "<table border=\"1\" class=\"dataframe\">\n",
       "  <thead>\n",
       "    <tr style=\"text-align: right;\">\n",
       "      <th></th>\n",
       "      <th>trans_hour</th>\n",
       "      <th>amt</th>\n",
       "      <th>lat_distance</th>\n",
       "      <th>long_distance</th>\n",
       "      <th>age</th>\n",
       "      <th>is_fraud</th>\n",
       "      <th>category_0</th>\n",
       "      <th>category_1</th>\n",
       "      <th>category_2</th>\n",
       "      <th>category_3</th>\n",
       "      <th>gender_F</th>\n",
       "      <th>gender_M</th>\n",
       "    </tr>\n",
       "  </thead>\n",
       "  <tbody>\n",
       "    <tr>\n",
       "      <th>0</th>\n",
       "      <td>0</td>\n",
       "      <td>4.97</td>\n",
       "      <td>0.067507</td>\n",
       "      <td>0.870215</td>\n",
       "      <td>32</td>\n",
       "      <td>0</td>\n",
       "      <td>0</td>\n",
       "      <td>0</td>\n",
       "      <td>0</td>\n",
       "      <td>1</td>\n",
       "      <td>1</td>\n",
       "      <td>0</td>\n",
       "    </tr>\n",
       "    <tr>\n",
       "      <th>1</th>\n",
       "      <td>0</td>\n",
       "      <td>107.23</td>\n",
       "      <td>0.271247</td>\n",
       "      <td>0.024038</td>\n",
       "      <td>42</td>\n",
       "      <td>0</td>\n",
       "      <td>0</td>\n",
       "      <td>0</td>\n",
       "      <td>1</td>\n",
       "      <td>0</td>\n",
       "      <td>1</td>\n",
       "      <td>0</td>\n",
       "    </tr>\n",
       "    <tr>\n",
       "      <th>2</th>\n",
       "      <td>0</td>\n",
       "      <td>220.11</td>\n",
       "      <td>0.969904</td>\n",
       "      <td>0.107519</td>\n",
       "      <td>58</td>\n",
       "      <td>0</td>\n",
       "      <td>0</td>\n",
       "      <td>0</td>\n",
       "      <td>1</td>\n",
       "      <td>1</td>\n",
       "      <td>0</td>\n",
       "      <td>1</td>\n",
       "    </tr>\n",
       "    <tr>\n",
       "      <th>3</th>\n",
       "      <td>0</td>\n",
       "      <td>45.00</td>\n",
       "      <td>0.803731</td>\n",
       "      <td>0.447271</td>\n",
       "      <td>53</td>\n",
       "      <td>0</td>\n",
       "      <td>0</td>\n",
       "      <td>1</td>\n",
       "      <td>0</td>\n",
       "      <td>0</td>\n",
       "      <td>0</td>\n",
       "      <td>1</td>\n",
       "    </tr>\n",
       "    <tr>\n",
       "      <th>4</th>\n",
       "      <td>0</td>\n",
       "      <td>41.96</td>\n",
       "      <td>0.254299</td>\n",
       "      <td>0.830441</td>\n",
       "      <td>34</td>\n",
       "      <td>0</td>\n",
       "      <td>0</td>\n",
       "      <td>1</td>\n",
       "      <td>0</td>\n",
       "      <td>1</td>\n",
       "      <td>0</td>\n",
       "      <td>1</td>\n",
       "    </tr>\n",
       "  </tbody>\n",
       "</table>\n",
       "</div>"
      ],
      "text/plain": [
       "   trans_hour     amt  lat_distance  long_distance  age  is_fraud  category_0  \\\n",
       "0           0    4.97      0.067507       0.870215   32         0           0   \n",
       "1           0  107.23      0.271247       0.024038   42         0           0   \n",
       "2           0  220.11      0.969904       0.107519   58         0           0   \n",
       "3           0   45.00      0.803731       0.447271   53         0           0   \n",
       "4           0   41.96      0.254299       0.830441   34         0           0   \n",
       "\n",
       "   category_1  category_2  category_3  gender_F  gender_M  \n",
       "0           0           0           1         1         0  \n",
       "1           0           1           0         1         0  \n",
       "2           0           1           1         0         1  \n",
       "3           1           0           0         0         1  \n",
       "4           1           0           1         0         1  "
      ]
     },
     "execution_count": 9,
     "metadata": {},
     "output_type": "execute_result"
    }
   ],
   "source": [
    "df.head()"
   ]
  },
  {
   "cell_type": "code",
   "execution_count": 10,
   "id": "d963c2b1",
   "metadata": {},
   "outputs": [
    {
     "name": "stdout",
     "output_type": "stream",
     "text": [
      "Test Data Metrics:\n",
      "Test Accuracy:  0.9686944937833037\n",
      "Test Precision:  0.9689164927207042\n",
      "Test Recall:  0.9686944937833037\n",
      "Test F1:  0.9686907881065578\n",
      "Test AUC-ROC:  0.9686944937833036\n",
      "time:  0.33054447174072266\n"
     ]
    }
   ],
   "source": [
    "from time import time\n",
    "from sklearn.metrics import accuracy_score, precision_score, recall_score, f1_score, roc_auc_score\n",
    "from sklearn.ensemble import RandomForestClassifier\n",
    "from sklearn.model_selection import train_test_split\n",
    "\n",
    "# splitting into the fraud and legit datasets\n",
    "fraud_dataSet = df[df.is_fraud == 1]\n",
    "legit_dataSet = df[df.is_fraud == 0]\n",
    "\n",
    "# building a legit dataset in the length of the frauds (7506), so it will be 7506 frauds and 7506 legits\n",
    "legit_sample = legit_dataSet.sample(n=7506) #7506\n",
    "\n",
    "# concatenating the two legit(7506) and fraud(7506) datasets(15012)\n",
    "new_dataset = pd.concat([legit_sample,fraud_dataSet], axis=0)\n",
    "\n",
    "X = new_dataset.drop(columns='is_fraud',axis=1)\n",
    "y = new_dataset['is_fraud']\n",
    "\n",
    "Start_Time = time()\n",
    "\n",
    "X_train, X_test, y_train, y_test = train_test_split(X, y, test_size=0.3, stratify=y, random_state=42)\n",
    "\n",
    "model = RandomForestClassifier(n_estimators=300, max_depth=20,min_samples_split=1, min_samples_leaf= 1, random_state=42)\n",
    "\n",
    "#training the Decision Tree Model with Training Data\n",
    "model.fit(X_train,y_train)\n",
    "\n",
    "# Predictions on the test data\n",
    "y_test_pred = model.predict(X_test)\n",
    "\n",
    "# Calculate evaluation metrics for test data (you can keep this part as is)\n",
    "test_accuracy = accuracy_score(y_test, y_test_pred)\n",
    "test_precision = precision_score(y_test, y_test_pred, average='macro')\n",
    "test_recall = recall_score(y_test, y_test_pred, average='macro')\n",
    "test_f1 = f1_score(y_test, y_test_pred, average='macro')\n",
    "test_auc_roc = roc_auc_score(y_test, y_test_pred)\n",
    "\n",
    "End_Time = time()\n",
    "\n",
    "print('Test Data Metrics:')\n",
    "print('Test Accuracy: ', test_accuracy)\n",
    "print('Test Precision: ', test_precision)\n",
    "print('Test Recall: ', test_recall)\n",
    "print('Test F1: ', test_f1)\n",
    "print('Test AUC-ROC: ', test_auc_roc)\n",
    "\n",
    "print('time: ', End_Time-Start_Time)"
   ]
  },
  {
   "cell_type": "code",
   "execution_count": 11,
   "id": "d8b954e5",
   "metadata": {},
   "outputs": [
    {
     "data": {
      "text/html": [
       "<div>\n",
       "<style scoped>\n",
       "    .dataframe tbody tr th:only-of-type {\n",
       "        vertical-align: middle;\n",
       "    }\n",
       "\n",
       "    .dataframe tbody tr th {\n",
       "        vertical-align: top;\n",
       "    }\n",
       "\n",
       "    .dataframe thead th {\n",
       "        text-align: right;\n",
       "    }\n",
       "</style>\n",
       "<table border=\"1\" class=\"dataframe\">\n",
       "  <thead>\n",
       "    <tr style=\"text-align: right;\">\n",
       "      <th></th>\n",
       "      <th>trans_hour</th>\n",
       "      <th>amt</th>\n",
       "      <th>lat_distance</th>\n",
       "      <th>long_distance</th>\n",
       "      <th>age</th>\n",
       "      <th>category_0</th>\n",
       "      <th>category_1</th>\n",
       "      <th>category_2</th>\n",
       "      <th>category_3</th>\n",
       "      <th>gender_F</th>\n",
       "      <th>gender_M</th>\n",
       "    </tr>\n",
       "  </thead>\n",
       "  <tbody>\n",
       "    <tr>\n",
       "      <th>572082</th>\n",
       "      <td>13</td>\n",
       "      <td>71.34</td>\n",
       "      <td>0.103084</td>\n",
       "      <td>0.315114</td>\n",
       "      <td>47</td>\n",
       "      <td>0</td>\n",
       "      <td>0</td>\n",
       "      <td>1</td>\n",
       "      <td>1</td>\n",
       "      <td>0</td>\n",
       "      <td>1</td>\n",
       "    </tr>\n",
       "    <tr>\n",
       "      <th>160892</th>\n",
       "      <td>6</td>\n",
       "      <td>76.78</td>\n",
       "      <td>0.922326</td>\n",
       "      <td>0.011214</td>\n",
       "      <td>44</td>\n",
       "      <td>0</td>\n",
       "      <td>0</td>\n",
       "      <td>0</td>\n",
       "      <td>1</td>\n",
       "      <td>1</td>\n",
       "      <td>0</td>\n",
       "    </tr>\n",
       "    <tr>\n",
       "      <th>844799</th>\n",
       "      <td>16</td>\n",
       "      <td>87.56</td>\n",
       "      <td>0.523307</td>\n",
       "      <td>0.673423</td>\n",
       "      <td>19</td>\n",
       "      <td>0</td>\n",
       "      <td>0</td>\n",
       "      <td>1</td>\n",
       "      <td>1</td>\n",
       "      <td>0</td>\n",
       "      <td>1</td>\n",
       "    </tr>\n",
       "    <tr>\n",
       "      <th>825520</th>\n",
       "      <td>16</td>\n",
       "      <td>11.33</td>\n",
       "      <td>0.141052</td>\n",
       "      <td>0.360211</td>\n",
       "      <td>50</td>\n",
       "      <td>1</td>\n",
       "      <td>1</td>\n",
       "      <td>1</td>\n",
       "      <td>0</td>\n",
       "      <td>1</td>\n",
       "      <td>0</td>\n",
       "    </tr>\n",
       "    <tr>\n",
       "      <th>695080</th>\n",
       "      <td>19</td>\n",
       "      <td>21.63</td>\n",
       "      <td>0.595633</td>\n",
       "      <td>0.213326</td>\n",
       "      <td>84</td>\n",
       "      <td>1</td>\n",
       "      <td>0</td>\n",
       "      <td>1</td>\n",
       "      <td>1</td>\n",
       "      <td>1</td>\n",
       "      <td>0</td>\n",
       "    </tr>\n",
       "    <tr>\n",
       "      <th>...</th>\n",
       "      <td>...</td>\n",
       "      <td>...</td>\n",
       "      <td>...</td>\n",
       "      <td>...</td>\n",
       "      <td>...</td>\n",
       "      <td>...</td>\n",
       "      <td>...</td>\n",
       "      <td>...</td>\n",
       "      <td>...</td>\n",
       "      <td>...</td>\n",
       "      <td>...</td>\n",
       "    </tr>\n",
       "    <tr>\n",
       "      <th>1295399</th>\n",
       "      <td>1</td>\n",
       "      <td>977.01</td>\n",
       "      <td>0.744314</td>\n",
       "      <td>0.431289</td>\n",
       "      <td>34</td>\n",
       "      <td>0</td>\n",
       "      <td>1</td>\n",
       "      <td>1</td>\n",
       "      <td>1</td>\n",
       "      <td>1</td>\n",
       "      <td>0</td>\n",
       "    </tr>\n",
       "    <tr>\n",
       "      <th>1295491</th>\n",
       "      <td>1</td>\n",
       "      <td>1210.91</td>\n",
       "      <td>0.583707</td>\n",
       "      <td>0.547452</td>\n",
       "      <td>34</td>\n",
       "      <td>0</td>\n",
       "      <td>1</td>\n",
       "      <td>1</td>\n",
       "      <td>1</td>\n",
       "      <td>1</td>\n",
       "      <td>0</td>\n",
       "    </tr>\n",
       "    <tr>\n",
       "      <th>1295532</th>\n",
       "      <td>2</td>\n",
       "      <td>10.24</td>\n",
       "      <td>0.758544</td>\n",
       "      <td>0.458932</td>\n",
       "      <td>26</td>\n",
       "      <td>0</td>\n",
       "      <td>1</td>\n",
       "      <td>0</td>\n",
       "      <td>0</td>\n",
       "      <td>0</td>\n",
       "      <td>1</td>\n",
       "    </tr>\n",
       "    <tr>\n",
       "      <th>1295666</th>\n",
       "      <td>3</td>\n",
       "      <td>21.69</td>\n",
       "      <td>0.815372</td>\n",
       "      <td>0.743649</td>\n",
       "      <td>51</td>\n",
       "      <td>0</td>\n",
       "      <td>1</td>\n",
       "      <td>0</td>\n",
       "      <td>0</td>\n",
       "      <td>1</td>\n",
       "      <td>0</td>\n",
       "    </tr>\n",
       "    <tr>\n",
       "      <th>1295733</th>\n",
       "      <td>3</td>\n",
       "      <td>10.20</td>\n",
       "      <td>0.904252</td>\n",
       "      <td>0.970391</td>\n",
       "      <td>26</td>\n",
       "      <td>0</td>\n",
       "      <td>1</td>\n",
       "      <td>0</td>\n",
       "      <td>0</td>\n",
       "      <td>0</td>\n",
       "      <td>1</td>\n",
       "    </tr>\n",
       "  </tbody>\n",
       "</table>\n",
       "<p>15012 rows × 11 columns</p>\n",
       "</div>"
      ],
      "text/plain": [
       "         trans_hour      amt  lat_distance  long_distance  age  category_0  \\\n",
       "572082           13    71.34      0.103084       0.315114   47           0   \n",
       "160892            6    76.78      0.922326       0.011214   44           0   \n",
       "844799           16    87.56      0.523307       0.673423   19           0   \n",
       "825520           16    11.33      0.141052       0.360211   50           1   \n",
       "695080           19    21.63      0.595633       0.213326   84           1   \n",
       "...             ...      ...           ...            ...  ...         ...   \n",
       "1295399           1   977.01      0.744314       0.431289   34           0   \n",
       "1295491           1  1210.91      0.583707       0.547452   34           0   \n",
       "1295532           2    10.24      0.758544       0.458932   26           0   \n",
       "1295666           3    21.69      0.815372       0.743649   51           0   \n",
       "1295733           3    10.20      0.904252       0.970391   26           0   \n",
       "\n",
       "         category_1  category_2  category_3  gender_F  gender_M  \n",
       "572082            0           1           1         0         1  \n",
       "160892            0           0           1         1         0  \n",
       "844799            0           1           1         0         1  \n",
       "825520            1           1           0         1         0  \n",
       "695080            0           1           1         1         0  \n",
       "...             ...         ...         ...       ...       ...  \n",
       "1295399           1           1           1         1         0  \n",
       "1295491           1           1           1         1         0  \n",
       "1295532           1           0           0         0         1  \n",
       "1295666           1           0           0         1         0  \n",
       "1295733           1           0           0         0         1  \n",
       "\n",
       "[15012 rows x 11 columns]"
      ]
     },
     "execution_count": 11,
     "metadata": {},
     "output_type": "execute_result"
    }
   ],
   "source": [
    "X"
   ]
  },
  {
   "cell_type": "code",
   "execution_count": 12,
   "id": "ecbeae5b",
   "metadata": {},
   "outputs": [
    {
     "data": {
      "text/plain": [
       "572082     0\n",
       "160892     0\n",
       "844799     0\n",
       "825520     0\n",
       "695080     0\n",
       "          ..\n",
       "1295399    1\n",
       "1295491    1\n",
       "1295532    1\n",
       "1295666    1\n",
       "1295733    1\n",
       "Name: is_fraud, Length: 15012, dtype: int64"
      ]
     },
     "execution_count": 12,
     "metadata": {},
     "output_type": "execute_result"
    }
   ],
   "source": [
    "y"
   ]
  },
  {
   "cell_type": "code",
   "execution_count": 13,
   "id": "1eb2720a",
   "metadata": {},
   "outputs": [
    {
     "name": "stderr",
     "output_type": "stream",
     "text": [
      "C:\\Users\\Mardig\\anaconda3\\Lib\\site-packages\\sklearn\\base.py:464: UserWarning: X does not have valid feature names, but RandomForestClassifier was fitted with feature names\n",
      "  warnings.warn(\n"
     ]
    },
    {
     "data": {
      "text/plain": [
       "array([1], dtype=int64)"
      ]
     },
     "execution_count": 13,
     "metadata": {},
     "output_type": "execute_result"
    }
   ],
   "source": [
    "model.predict([[22,5203,0.744314,0.431289,34,0,1,0,0,1,0]])"
   ]
  },
  {
   "cell_type": "code",
   "execution_count": 14,
   "id": "b946bf9c",
   "metadata": {},
   "outputs": [
    {
     "data": {
      "text/plain": [
       "['model_joblib.pkl']"
      ]
     },
     "execution_count": 14,
     "metadata": {},
     "output_type": "execute_result"
    }
   ],
   "source": [
    "import joblib\n",
    "joblib.dump(model,\"model_joblib.pkl\")"
   ]
  },
  {
   "cell_type": "code",
   "execution_count": 15,
   "id": "0ee9e866",
   "metadata": {},
   "outputs": [],
   "source": [
    "classifier = joblib.load('model_joblib.pkl')"
   ]
  },
  {
   "cell_type": "code",
   "execution_count": 16,
   "id": "e5a045b6",
   "metadata": {},
   "outputs": [],
   "source": [
    "new_obs = [[22,5203,0.744314,0.431289,34,0,1,0,0,1,0]]"
   ]
  },
  {
   "cell_type": "code",
   "execution_count": 17,
   "id": "97e738db",
   "metadata": {},
   "outputs": [
    {
     "name": "stderr",
     "output_type": "stream",
     "text": [
      "C:\\Users\\Mardig\\anaconda3\\Lib\\site-packages\\sklearn\\base.py:464: UserWarning: X does not have valid feature names, but RandomForestClassifier was fitted with feature names\n",
      "  warnings.warn(\n"
     ]
    },
    {
     "data": {
      "text/plain": [
       "array([1], dtype=int64)"
      ]
     },
     "execution_count": 17,
     "metadata": {},
     "output_type": "execute_result"
    }
   ],
   "source": [
    "classifier.predict(new_obs)"
   ]
  },
  {
   "cell_type": "code",
   "execution_count": 18,
   "id": "66b32655",
   "metadata": {},
   "outputs": [],
   "source": [
    "from flask import Flask, request, jsonify\n",
    "import joblib\n",
    "app = Flask(__name__)"
   ]
  },
  {
   "cell_type": "code",
   "execution_count": 19,
   "id": "df8fcf8d",
   "metadata": {},
   "outputs": [],
   "source": [
    "@app.route('/predict', methods=['POST'])\n",
    "def predict():\n",
    "    try:\n",
    "        data = request.json\n",
    "        prediction = model.predict([data['features']])\n",
    "        return jsonify({'prediction':int(prediction[0])})\n",
    "    except Exception as e:\n",
    "        return jsonify({'error': str(e)})"
   ]
  },
  {
   "cell_type": "code",
   "execution_count": null,
   "id": "c163f5a2",
   "metadata": {},
   "outputs": [
    {
     "name": "stdout",
     "output_type": "stream",
     "text": [
      " * Serving Flask app '__main__'\n",
      " * Debug mode: off\n"
     ]
    },
    {
     "name": "stderr",
     "output_type": "stream",
     "text": [
      "WARNING: This is a development server. Do not use it in a production deployment. Use a production WSGI server instead.\n",
      " * Running on http://127.0.0.1:5000\n",
      "Press CTRL+C to quit\n",
      "C:\\Users\\Mardig\\anaconda3\\Lib\\site-packages\\sklearn\\base.py:464: UserWarning: X does not have valid feature names, but RandomForestClassifier was fitted with feature names\n",
      "  warnings.warn(\n",
      "127.0.0.1 - - [01/Dec/2023 16:51:51] \"POST /predict HTTP/1.1\" 200 -\n",
      "C:\\Users\\Mardig\\anaconda3\\Lib\\site-packages\\sklearn\\base.py:464: UserWarning: X does not have valid feature names, but RandomForestClassifier was fitted with feature names\n",
      "  warnings.warn(\n",
      "127.0.0.1 - - [01/Dec/2023 16:51:55] \"POST /predict HTTP/1.1\" 200 -\n",
      "C:\\Users\\Mardig\\anaconda3\\Lib\\site-packages\\sklearn\\base.py:464: UserWarning: X does not have valid feature names, but RandomForestClassifier was fitted with feature names\n",
      "  warnings.warn(\n",
      "127.0.0.1 - - [01/Dec/2023 16:52:43] \"POST /predict HTTP/1.1\" 200 -\n",
      "C:\\Users\\Mardig\\anaconda3\\Lib\\site-packages\\sklearn\\base.py:464: UserWarning: X does not have valid feature names, but RandomForestClassifier was fitted with feature names\n",
      "  warnings.warn(\n",
      "127.0.0.1 - - [01/Dec/2023 16:52:44] \"POST /predict HTTP/1.1\" 200 -\n",
      "C:\\Users\\Mardig\\anaconda3\\Lib\\site-packages\\sklearn\\base.py:464: UserWarning: X does not have valid feature names, but RandomForestClassifier was fitted with feature names\n",
      "  warnings.warn(\n",
      "127.0.0.1 - - [01/Dec/2023 16:53:55] \"POST /predict HTTP/1.1\" 200 -\n",
      "C:\\Users\\Mardig\\anaconda3\\Lib\\site-packages\\sklearn\\base.py:464: UserWarning: X does not have valid feature names, but RandomForestClassifier was fitted with feature names\n",
      "  warnings.warn(\n",
      "127.0.0.1 - - [01/Dec/2023 16:53:56] \"POST /predict HTTP/1.1\" 200 -\n",
      "C:\\Users\\Mardig\\anaconda3\\Lib\\site-packages\\sklearn\\base.py:464: UserWarning: X does not have valid feature names, but RandomForestClassifier was fitted with feature names\n",
      "  warnings.warn(\n",
      "127.0.0.1 - - [01/Dec/2023 16:54:00] \"POST /predict HTTP/1.1\" 200 -\n",
      "C:\\Users\\Mardig\\anaconda3\\Lib\\site-packages\\sklearn\\base.py:464: UserWarning: X does not have valid feature names, but RandomForestClassifier was fitted with feature names\n",
      "  warnings.warn(\n",
      "127.0.0.1 - - [01/Dec/2023 16:55:01] \"POST /predict HTTP/1.1\" 200 -\n"
     ]
    }
   ],
   "source": [
    "def run_app():\n",
    "    # Disable reloader and debugger\n",
    "    app.run(port=5000, debug=False, use_reloader=False)\n",
    "if __name__ == '__main__':\n",
    "        run_app()"
   ]
  },
  {
   "cell_type": "code",
   "execution_count": null,
   "id": "7083e717",
   "metadata": {},
   "outputs": [],
   "source": []
  }
 ],
 "metadata": {
  "kernelspec": {
   "display_name": "Python 3 (ipykernel)",
   "language": "python",
   "name": "python3"
  },
  "language_info": {
   "codemirror_mode": {
    "name": "ipython",
    "version": 3
   },
   "file_extension": ".py",
   "mimetype": "text/x-python",
   "name": "python",
   "nbconvert_exporter": "python",
   "pygments_lexer": "ipython3",
   "version": "3.11.4"
  }
 },
 "nbformat": 4,
 "nbformat_minor": 5
}
